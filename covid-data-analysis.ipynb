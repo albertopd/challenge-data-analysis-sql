{
 "cells": [
  {
   "cell_type": "markdown",
   "id": "511b4927",
   "metadata": {},
   "source": [
    "# Business Creation Trends During the COVID-19 Pandemic in Belgium\n",
    "\n",
    "Load the necessary libraries and set up the environment for data analysis."
   ]
  },
  {
   "cell_type": "code",
   "execution_count": 1,
   "id": "995d5fb9",
   "metadata": {},
   "outputs": [],
   "source": [
    "import sqlite3\n",
    "import pandas as pd\n",
    "import matplotlib.pyplot as plt\n",
    "import matplotlib.cm as cm\n",
    "import seaborn as sns\n",
    "import numpy as np\n",
    "\n",
    "# Connect to KBO database\n",
    "conn = sqlite3.connect(r'./data/kbo_database.db')"
   ]
  },
  {
   "cell_type": "markdown",
   "id": "35077d4c",
   "metadata": {},
   "source": [
    "## How Many Companies Were Created During the Pandemic?"
   ]
  },
  {
   "cell_type": "code",
   "execution_count": 18,
   "id": "9c0f48bc",
   "metadata": {},
   "outputs": [
    {
     "data": {
      "application/vnd.microsoft.datawrangler.viewer.v0+json": {
       "columns": [
        {
         "name": "index",
         "rawType": "int64",
         "type": "integer"
        },
        {
         "name": "Year",
         "rawType": "int64",
         "type": "integer"
        },
        {
         "name": "CompaniesCount",
         "rawType": "int64",
         "type": "integer"
        }
       ],
       "ref": "5c803c25-ac49-46ce-8bb4-094c47d7acd0",
       "rows": [
        [
         "0",
         "2018",
         "73309"
        ],
        [
         "1",
         "2019",
         "81171"
        ],
        [
         "2",
         "2020",
         "84786"
        ],
        [
         "3",
         "2021",
         "100446"
        ],
        [
         "4",
         "2022",
         "105626"
        ],
        [
         "5",
         "2023",
         "115432"
        ],
        [
         "6",
         "2024",
         "130923"
        ],
        [
         "7",
         "2025",
         "74092"
        ]
       ],
       "shape": {
        "columns": 2,
        "rows": 8
       }
      },
      "text/html": [
       "<div>\n",
       "<style scoped>\n",
       "    .dataframe tbody tr th:only-of-type {\n",
       "        vertical-align: middle;\n",
       "    }\n",
       "\n",
       "    .dataframe tbody tr th {\n",
       "        vertical-align: top;\n",
       "    }\n",
       "\n",
       "    .dataframe thead th {\n",
       "        text-align: right;\n",
       "    }\n",
       "</style>\n",
       "<table border=\"1\" class=\"dataframe\">\n",
       "  <thead>\n",
       "    <tr style=\"text-align: right;\">\n",
       "      <th></th>\n",
       "      <th>Year</th>\n",
       "      <th>CompaniesCount</th>\n",
       "    </tr>\n",
       "  </thead>\n",
       "  <tbody>\n",
       "    <tr>\n",
       "      <th>0</th>\n",
       "      <td>2018</td>\n",
       "      <td>73309</td>\n",
       "    </tr>\n",
       "    <tr>\n",
       "      <th>1</th>\n",
       "      <td>2019</td>\n",
       "      <td>81171</td>\n",
       "    </tr>\n",
       "    <tr>\n",
       "      <th>2</th>\n",
       "      <td>2020</td>\n",
       "      <td>84786</td>\n",
       "    </tr>\n",
       "    <tr>\n",
       "      <th>3</th>\n",
       "      <td>2021</td>\n",
       "      <td>100446</td>\n",
       "    </tr>\n",
       "    <tr>\n",
       "      <th>4</th>\n",
       "      <td>2022</td>\n",
       "      <td>105626</td>\n",
       "    </tr>\n",
       "    <tr>\n",
       "      <th>5</th>\n",
       "      <td>2023</td>\n",
       "      <td>115432</td>\n",
       "    </tr>\n",
       "    <tr>\n",
       "      <th>6</th>\n",
       "      <td>2024</td>\n",
       "      <td>130923</td>\n",
       "    </tr>\n",
       "    <tr>\n",
       "      <th>7</th>\n",
       "      <td>2025</td>\n",
       "      <td>74092</td>\n",
       "    </tr>\n",
       "  </tbody>\n",
       "</table>\n",
       "</div>"
      ],
      "text/plain": [
       "   Year  CompaniesCount\n",
       "0  2018           73309\n",
       "1  2019           81171\n",
       "2  2020           84786\n",
       "3  2021          100446\n",
       "4  2022          105626\n",
       "5  2023          115432\n",
       "6  2024          130923\n",
       "7  2025           74092"
      ]
     },
     "execution_count": 18,
     "metadata": {},
     "output_type": "execute_result"
    }
   ],
   "source": [
    "query = \"\"\"\n",
    "    SELECT\n",
    "        CAST(SUBSTR(StartDate, 7, 4) AS INTEGER) AS Year,\n",
    "        COUNT(DISTINCT EnterpriseNumber) AS CompaniesCount\n",
    "    FROM enterprise\n",
    "    WHERE StartDate IS NOT NULL\n",
    "        AND CAST(SUBSTR(StartDate, 7, 4) AS INTEGER) > 2017\n",
    "    GROUP BY Year\n",
    "    ORDER BY Year;\n",
    "\"\"\"\n",
    "df_companies_count = pd.read_sql_query(query, conn)\n",
    "df_companies_count.head(10)"
   ]
  },
  {
   "cell_type": "code",
   "execution_count": 20,
   "id": "3617b959",
   "metadata": {},
   "outputs": [
    {
     "data": {
      "image/png": "[encoded data removed]",
      "text/plain": [
       "<Figure size 1000x600 with 1 Axes>"
      ]
     },
     "metadata": {},
     "output_type": "display_data"
    }
   ],
   "source": [
    "plt.figure(figsize=(10,6))\n",
    "plt.bar(df_companies_count['Year'], df_companies_count['CompaniesCount'], color='skyblue')\n",
    "\n",
    "# Highlight full 2020–2021 COVID period\n",
    "plt.axvspan(2019.5, 2023.5, color='red', alpha=0.3, label='COVID-19 period')\n",
    "\n",
    "# Set all years on x-axis\n",
    "plt.xticks(df_companies_count['Year'])\n",
    "\n",
    "plt.title('Number of Companies Created (by Year)')\n",
    "plt.xlabel('Year')\n",
    "plt.ylabel('Number of Companies')\n",
    "plt.legend()\n",
    "plt.tight_layout()\n",
    "plt.show()"
   ]
  },
  {
   "cell_type": "markdown",
   "id": "37a2a009",
   "metadata": {},
   "source": [
    "## Where Were Companies Created During COVID?"
   ]
  },
  {
   "cell_type": "code",
   "execution_count": 59,
   "id": "ce949b97",
   "metadata": {},
   "outputs": [
    {
     "data": {
      "application/vnd.microsoft.datawrangler.viewer.v0+json": {
       "columns": [
        {
         "name": "index",
         "rawType": "int64",
         "type": "integer"
        },
        {
         "name": "MunicipalityFR",
         "rawType": "object",
         "type": "string"
        },
        {
         "name": "Count",
         "rawType": "int64",
         "type": "integer"
        }
       ],
       "ref": "50ba8ade-9a68-4c06-a1c7-31c66cde4ed4",
       "rows": [
        [
         "0",
         "Antwerpen",
         "12360"
        ],
        [
         "1",
         "Bruxelles",
         "6515"
        ],
        [
         "2",
         "Gent",
         "6499"
        ],
        [
         "3",
         "Ixelles",
         "3279"
        ],
        [
         "4",
         "Liège",
         "2826"
        ]
       ],
       "shape": {
        "columns": 2,
        "rows": 5
       }
      },
      "text/html": [
       "<div>\n",
       "<style scoped>\n",
       "    .dataframe tbody tr th:only-of-type {\n",
       "        vertical-align: middle;\n",
       "    }\n",
       "\n",
       "    .dataframe tbody tr th {\n",
       "        vertical-align: top;\n",
       "    }\n",
       "\n",
       "    .dataframe thead th {\n",
       "        text-align: right;\n",
       "    }\n",
       "</style>\n",
       "<table border=\"1\" class=\"dataframe\">\n",
       "  <thead>\n",
       "    <tr style=\"text-align: right;\">\n",
       "      <th></th>\n",
       "      <th>MunicipalityFR</th>\n",
       "      <th>Count</th>\n",
       "    </tr>\n",
       "  </thead>\n",
       "  <tbody>\n",
       "    <tr>\n",
       "      <th>0</th>\n",
       "      <td>Antwerpen</td>\n",
       "      <td>12360</td>\n",
       "    </tr>\n",
       "    <tr>\n",
       "      <th>1</th>\n",
       "      <td>Bruxelles</td>\n",
       "      <td>6515</td>\n",
       "    </tr>\n",
       "    <tr>\n",
       "      <th>2</th>\n",
       "      <td>Gent</td>\n",
       "      <td>6499</td>\n",
       "    </tr>\n",
       "    <tr>\n",
       "      <th>3</th>\n",
       "      <td>Ixelles</td>\n",
       "      <td>3279</td>\n",
       "    </tr>\n",
       "    <tr>\n",
       "      <th>4</th>\n",
       "      <td>Liège</td>\n",
       "      <td>2826</td>\n",
       "    </tr>\n",
       "  </tbody>\n",
       "</table>\n",
       "</div>"
      ],
      "text/plain": [
       "  MunicipalityFR  Count\n",
       "0      Antwerpen  12360\n",
       "1      Bruxelles   6515\n",
       "2           Gent   6499\n",
       "3        Ixelles   3279\n",
       "4          Liège   2826"
      ]
     },
     "execution_count": 59,
     "metadata": {},
     "output_type": "execute_result"
    }
   ],
   "source": [
    "query = \"\"\"\n",
    "    SELECT \n",
    "        a.MunicipalityFR,\n",
    "        COUNT(DISTINCT a.EntityNumber) AS Count\n",
    "    FROM enterprise e\n",
    "    JOIN address a \n",
    "        ON e.EnterpriseNumber = a.EntityNumber\n",
    "    WHERE StartDate IS NOT NULL\n",
    "        AND CAST(SUBSTR(StartDate, 7, 4) AS INTEGER) BETWEEN 2020 AND 2023\n",
    "        AND a.TypeOfAddress = 'REGO'\n",
    "    GROUP BY a.MunicipalityFR\n",
    "    ORDER BY Count DESC\n",
    "    LIMIT 5;\n",
    "\"\"\"\n",
    "df_companies_per_region = pd.read_sql_query(query, conn)\n",
    "df_companies_per_region.head()"
   ]
  },
  {
   "cell_type": "code",
   "execution_count": 60,
   "id": "456f95a4",
   "metadata": {},
   "outputs": [
    {
     "data": {
      "image/png": "[encoded data removed]",
      "text/plain": [
       "<Figure size 640x480 with 1 Axes>"
      ]
     },
     "metadata": {},
     "output_type": "display_data"
    }
   ],
   "source": [
    "df_sorted = df_companies_per_region.sort_values(by='Count', ascending=False).iloc[::-1]\n",
    "\n",
    "# Generate a list of unique colors (same length as the dataframe)\n",
    "cmap = plt.colormaps['tab10'].resampled(len(df_sorted ))\n",
    "colors = cmap(np.arange(len(df_sorted)))\n",
    "\n",
    "# Plot with custom colors\n",
    "df_sorted .plot(\n",
    "    kind='barh',\n",
    "    x='MunicipalityFR',\n",
    "    y='Count',\n",
    "    color=colors,\n",
    "    legend=False\n",
    ")\n",
    "\n",
    "plt.title('Top 5 Municipalities by Company Creations (2020–2023)')\n",
    "plt.xlabel('Number of Companies')\n",
    "plt.ylabel('Municipality')\n",
    "plt.tight_layout()\n",
    "plt.show()"
   ]
  },
  {
   "cell_type": "markdown",
   "id": "44f84e57",
   "metadata": {},
   "source": [
    "## Which Sectors Boomed During the Pandemic?"
   ]
  },
  {
   "cell_type": "code",
   "execution_count": 55,
   "id": "afe1c0f1",
   "metadata": {},
   "outputs": [
    {
     "data": {
      "application/vnd.microsoft.datawrangler.viewer.v0+json": {
       "columns": [
        {
         "name": "index",
         "rawType": "int64",
         "type": "integer"
        },
        {
         "name": "SectorGroup",
         "rawType": "object",
         "type": "string"
        },
        {
         "name": "Count",
         "rawType": "int64",
         "type": "integer"
        }
       ],
       "ref": "da7ac662-d13a-4e50-8435-31376412cd33",
       "rows": [
        [
         "2",
         "Management consulting",
         "41725"
        ],
        [
         "5",
         "Residential construction",
         "19434"
        ],
        [
         "1",
         "IT consulting & infrastructure management",
         "17319"
        ],
        [
         "0",
         "Business support services",
         "15772"
        ],
        [
         "3",
         "Non-scheduled air transport",
         "8806"
        ]
       ],
       "shape": {
        "columns": 2,
        "rows": 5
       }
      },
      "text/html": [
       "<div>\n",
       "<style scoped>\n",
       "    .dataframe tbody tr th:only-of-type {\n",
       "        vertical-align: middle;\n",
       "    }\n",
       "\n",
       "    .dataframe tbody tr th {\n",
       "        vertical-align: top;\n",
       "    }\n",
       "\n",
       "    .dataframe thead th {\n",
       "        text-align: right;\n",
       "    }\n",
       "</style>\n",
       "<table border=\"1\" class=\"dataframe\">\n",
       "  <thead>\n",
       "    <tr style=\"text-align: right;\">\n",
       "      <th></th>\n",
       "      <th>SectorGroup</th>\n",
       "      <th>Count</th>\n",
       "    </tr>\n",
       "  </thead>\n",
       "  <tbody>\n",
       "    <tr>\n",
       "      <th>2</th>\n",
       "      <td>Management consulting</td>\n",
       "      <td>41725</td>\n",
       "    </tr>\n",
       "    <tr>\n",
       "      <th>5</th>\n",
       "      <td>Residential construction</td>\n",
       "      <td>19434</td>\n",
       "    </tr>\n",
       "    <tr>\n",
       "      <th>1</th>\n",
       "      <td>IT consulting &amp; infrastructure management</td>\n",
       "      <td>17319</td>\n",
       "    </tr>\n",
       "    <tr>\n",
       "      <th>0</th>\n",
       "      <td>Business support services</td>\n",
       "      <td>15772</td>\n",
       "    </tr>\n",
       "    <tr>\n",
       "      <th>3</th>\n",
       "      <td>Non-scheduled air transport</td>\n",
       "      <td>8806</td>\n",
       "    </tr>\n",
       "  </tbody>\n",
       "</table>\n",
       "</div>"
      ],
      "text/plain": [
       "                                 SectorGroup  Count\n",
       "2                      Management consulting  41725\n",
       "5                   Residential construction  19434\n",
       "1  IT consulting & infrastructure management  17319\n",
       "0                  Business support services  15772\n",
       "3                Non-scheduled air transport   8806"
      ]
     },
     "execution_count": 55,
     "metadata": {},
     "output_type": "execute_result"
    }
   ],
   "source": [
    "query = \"\"\"\n",
    "    SELECT \n",
    "        a.NaceCode,\n",
    "        COUNT(DISTINCT a.EntityNumber) AS Count\n",
    "    FROM activity AS a\n",
    "    JOIN enterprise AS e \n",
    "        ON a.EntityNumber = e.EnterpriseNumber\n",
    "    WHERE CAST(SUBSTR(StartDate, 7, 4) AS INTEGER) BETWEEN 2020 AND 2023\n",
    "        AND a.Classification = 'MAIN'\n",
    "    GROUP BY a.NaceCode\n",
    "    ORDER BY Count DESC\n",
    "    LIMIT 15;\n",
    "\"\"\"\n",
    "df_companies_per_sector = pd.read_sql_query(query, conn)\n",
    "\n",
    "query_code = \"\"\"\n",
    "    SELECT Code, Description\n",
    "    FROM code\n",
    "    WHERE Category IN ('Nace2003', 'Nace2008', 'Nace2025') \n",
    "        AND Language = 'FR'\n",
    "\"\"\"\n",
    "df_codes = pd.read_sql_query(query_code, conn)\n",
    "\n",
    "# Ensure types match for the merge key\n",
    "df_companies_per_sector['NaceCode'] = df_companies_per_sector['NaceCode'].astype(str)\n",
    "df_codes['Code'] = df_codes['Code'].astype(str)\n",
    "\n",
    "# Merge on code\n",
    "df_merged = df_companies_per_sector.merge(df_codes, left_on='NaceCode', right_on='Code', how='left')\n",
    "\n",
    "# Drop the 'NaceCode' column and rename 'Description'\n",
    "df_merged = df_merged.drop(columns=['NaceCode'])\n",
    "df_merged = df_merged.rename(columns={'Description': 'Sector'})\n",
    "\n",
    "# Reorder columns\n",
    "df_merged = df_merged[['Sector', 'Count']]\n",
    "\n",
    "# Define a mapping of similar/duplicate sector descriptions to unified English labels\n",
    "sector_mapping = {\n",
    "    'Activités de conseil pour les affaires et autre conseil de gestion': 'Management consulting',\n",
    "    'Conseil pour les affaires et autres conseils de gestion': 'Management consulting',\n",
    "    'Construction générale de bâtiments résidentiels': 'Residential construction',\n",
    "    'Transports aériens non réguliers': 'Non-scheduled air transport',\n",
    "    'Activités de conseil en informatique et de gestion d’installations informatiques': 'IT consulting & infrastructure management',\n",
    "    'Conseil informatique': 'IT consulting & infrastructure management',\n",
    "    'Autres activités de soutien aux entreprises n.c.a.': 'Business support services',\n",
    "    'Autres activités de service de soutien aux entreprises nca': 'Business support services',\n",
    "    'Soins esthétiques et autres activités de traitement esthétique': 'Personal care services'\n",
    "}\n",
    "\n",
    "\n",
    "df_merged['SectorGroup'] = df_merged['Sector'].map(sector_mapping)\n",
    "\n",
    "df_cleaned = df_merged.dropna(subset=['SectorGroup'])\n",
    "\n",
    "df_grouped = (\n",
    "    df_cleaned\n",
    "    .groupby('SectorGroup', as_index=False)['Count']\n",
    "    .sum()\n",
    "    .sort_values(by='Count', ascending=False)\n",
    "    .head(5)\n",
    ")\n",
    "\n",
    "df_grouped.head()"
   ]
  },
  {
   "cell_type": "code",
   "execution_count": 56,
   "id": "f8b18e0c",
   "metadata": {},
   "outputs": [
    {
     "data": {
      "image/png": "[encoded data removed]",
      "text/plain": [
       "<Figure size 1200x600 with 1 Axes>"
      ]
     },
     "metadata": {},
     "output_type": "display_data"
    }
   ],
   "source": [
    "plt.figure(figsize=(12, 6))\n",
    "\n",
    "# Horizontal barplot for better readability of sector names\n",
    "sns.barplot(x='Count', y='SectorGroup', data=df_grouped, palette='viridis', hue='SectorGroup', dodge=False, legend=False)\n",
    "\n",
    "plt.title('Top 5 Sectors for Company Creation (2020–2023)')\n",
    "plt.xlabel('Number of Companies Created')\n",
    "plt.ylabel('Sector')\n",
    "plt.tight_layout(pad=2.0)\n",
    "plt.show()\n"
   ]
  }
 ],
 "metadata": {
  "kernelspec": {
   "display_name": ".venv",
   "language": "python",
   "name": "python3"
  },
  "language_info": {
   "codemirror_mode": {
    "name": "ipython",
    "version": 3
   },
   "file_extension": ".py",
   "mimetype": "text/x-python",
   "name": "python",
   "nbconvert_exporter": "python",
   "pygments_lexer": "ipython3",
   "version": "3.13.5"
  }
 },
 "nbformat": 4,
 "nbformat_minor": 5
}
