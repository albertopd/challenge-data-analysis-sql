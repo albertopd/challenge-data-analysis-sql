{
 "cells": [
  {
   "cell_type": "code",
   "execution_count": 1,
   "id": "e93780c2",
   "metadata": {},
   "outputs": [],
   "source": [
    "import sqlite3\n",
    "import pandas as pd\n",
    "\n",
    "# Connect to KBO database\n",
    "conn = sqlite3.connect(r'./data/kbo_database.db')"
   ]
  },
  {
   "cell_type": "code",
   "execution_count": 2,
   "id": "0f985c0b",
   "metadata": {},
   "outputs": [
    {
     "data": {
      "application/vnd.microsoft.datawrangler.viewer.v0+json": {
       "columns": [
        {
         "name": "index",
         "rawType": "int64",
         "type": "integer"
        },
        {
         "name": "EnterpriseNumber",
         "rawType": "object",
         "type": "string"
        },
        {
         "name": "Status",
         "rawType": "object",
         "type": "string"
        },
        {
         "name": "JuridicalSituation",
         "rawType": "int64",
         "type": "integer"
        },
        {
         "name": "TypeOfEnterprise",
         "rawType": "int64",
         "type": "integer"
        },
        {
         "name": "JuridicalForm",
         "rawType": "float64",
         "type": "float"
        },
        {
         "name": "JuridicalFormCAC",
         "rawType": "object",
         "type": "unknown"
        },
        {
         "name": "StartDate",
         "rawType": "object",
         "type": "string"
        }
       ],
       "ref": "c1f0d771-c97e-46eb-bcee-01a15d4c9fb5",
       "rows": [
        [
         "0",
         "0200.065.765",
         "AC",
         "0",
         "2",
         "416.0",
         null,
         "09-08-1960"
        ],
        [
         "1",
         "0200.068.636",
         "AC",
         "0",
         "2",
         "417.0",
         null,
         "16-02-1923"
        ],
        [
         "2",
         "0200.171.970",
         "AC",
         "0",
         "2",
         "116.0",
         null,
         "01-01-1968"
        ],
        [
         "3",
         "0200.245.711",
         "AC",
         "12",
         "2",
         "116.0",
         null,
         "01-01-1922"
        ],
        [
         "4",
         "0200.305.493",
         "AC",
         "0",
         "2",
         "416.0",
         null,
         "19-03-1962"
        ]
       ],
       "shape": {
        "columns": 7,
        "rows": 5
       }
      },
      "text/html": [
       "<div>\n",
       "<style scoped>\n",
       "    .dataframe tbody tr th:only-of-type {\n",
       "        vertical-align: middle;\n",
       "    }\n",
       "\n",
       "    .dataframe tbody tr th {\n",
       "        vertical-align: top;\n",
       "    }\n",
       "\n",
       "    .dataframe thead th {\n",
       "        text-align: right;\n",
       "    }\n",
       "</style>\n",
       "<table border=\"1\" class=\"dataframe\">\n",
       "  <thead>\n",
       "    <tr style=\"text-align: right;\">\n",
       "      <th></th>\n",
       "      <th>EnterpriseNumber</th>\n",
       "      <th>Status</th>\n",
       "      <th>JuridicalSituation</th>\n",
       "      <th>TypeOfEnterprise</th>\n",
       "      <th>JuridicalForm</th>\n",
       "      <th>JuridicalFormCAC</th>\n",
       "      <th>StartDate</th>\n",
       "    </tr>\n",
       "  </thead>\n",
       "  <tbody>\n",
       "    <tr>\n",
       "      <th>0</th>\n",
       "      <td>0200.065.765</td>\n",
       "      <td>AC</td>\n",
       "      <td>0</td>\n",
       "      <td>2</td>\n",
       "      <td>416.0</td>\n",
       "      <td>None</td>\n",
       "      <td>09-08-1960</td>\n",
       "    </tr>\n",
       "    <tr>\n",
       "      <th>1</th>\n",
       "      <td>0200.068.636</td>\n",
       "      <td>AC</td>\n",
       "      <td>0</td>\n",
       "      <td>2</td>\n",
       "      <td>417.0</td>\n",
       "      <td>None</td>\n",
       "      <td>16-02-1923</td>\n",
       "    </tr>\n",
       "    <tr>\n",
       "      <th>2</th>\n",
       "      <td>0200.171.970</td>\n",
       "      <td>AC</td>\n",
       "      <td>0</td>\n",
       "      <td>2</td>\n",
       "      <td>116.0</td>\n",
       "      <td>None</td>\n",
       "      <td>01-01-1968</td>\n",
       "    </tr>\n",
       "    <tr>\n",
       "      <th>3</th>\n",
       "      <td>0200.245.711</td>\n",
       "      <td>AC</td>\n",
       "      <td>12</td>\n",
       "      <td>2</td>\n",
       "      <td>116.0</td>\n",
       "      <td>None</td>\n",
       "      <td>01-01-1922</td>\n",
       "    </tr>\n",
       "    <tr>\n",
       "      <th>4</th>\n",
       "      <td>0200.305.493</td>\n",
       "      <td>AC</td>\n",
       "      <td>0</td>\n",
       "      <td>2</td>\n",
       "      <td>416.0</td>\n",
       "      <td>None</td>\n",
       "      <td>19-03-1962</td>\n",
       "    </tr>\n",
       "  </tbody>\n",
       "</table>\n",
       "</div>"
      ],
      "text/plain": [
       "  EnterpriseNumber Status  JuridicalSituation  TypeOfEnterprise  \\\n",
       "0     0200.065.765     AC                   0                 2   \n",
       "1     0200.068.636     AC                   0                 2   \n",
       "2     0200.171.970     AC                   0                 2   \n",
       "3     0200.245.711     AC                  12                 2   \n",
       "4     0200.305.493     AC                   0                 2   \n",
       "\n",
       "   JuridicalForm JuridicalFormCAC   StartDate  \n",
       "0          416.0             None  09-08-1960  \n",
       "1          417.0             None  16-02-1923  \n",
       "2          116.0             None  01-01-1968  \n",
       "3          116.0             None  01-01-1922  \n",
       "4          416.0             None  19-03-1962  "
      ]
     },
     "execution_count": 2,
     "metadata": {},
     "output_type": "execute_result"
    }
   ],
   "source": [
    "# Run a test query to check the connection\n",
    "query = \"\"\"\n",
    "    SELECT *\n",
    "    FROM enterprise\n",
    "    LIMIT 5;\n",
    "\"\"\"\n",
    "enterprise_df  = pd.read_sql_query(query, conn)\n",
    "enterprise_df.head()"
   ]
  }
 ],
 "metadata": {
  "kernelspec": {
   "display_name": ".venv",
   "language": "python",
   "name": "python3"
  },
  "language_info": {
   "codemirror_mode": {
    "name": "ipython",
    "version": 3
   },
   "file_extension": ".py",
   "mimetype": "text/x-python",
   "name": "python",
   "nbconvert_exporter": "python",
   "pygments_lexer": "ipython3",
   "version": "3.13.5"
  }
 },
 "nbformat": 4,
 "nbformat_minor": 5
}
